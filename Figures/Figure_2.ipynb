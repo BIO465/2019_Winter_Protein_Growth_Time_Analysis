{
  "nbformat": 4,
  "nbformat_minor": 0,
  "metadata": {
    "colab": {
      "name": "get_gene_pathways",
      "version": "0.3.2",
      "provenance": [],
      "collapsed_sections": []
    },
    "kernelspec": {
      "name": "python3",
      "display_name": "Python 3"
    }
  },
  "cells": [
    {
      "metadata": {
        "id": "4mTMOpUcsbKF",
        "colab_type": "code",
        "outputId": "6b4f2168-1222-4f7d-d4ff-2ffb02c2d97a",
        "colab": {
          "base_uri": "https://localhost:8080/",
          "height": 34
        }
      },
      "cell_type": "code",
      "source": [
        "from google.colab import drive\n",
        "drive.mount('/content/drive')"
      ],
      "execution_count": 0,
      "outputs": [
        {
          "output_type": "stream",
          "text": [
            "Drive already mounted at /content/drive; to attempt to forcibly remount, call drive.mount(\"/content/drive\", force_remount=True).\n"
          ],
          "name": "stdout"
        }
      ]
    },
    {
      "metadata": {
        "id": "kXzhwn8UtPvg",
        "colab_type": "code",
        "colab": {}
      },
      "cell_type": "code",
      "source": [
        "import pandas as pd\n",
        "import numpy as np\n",
        "from scipy.stats import hypergeom"
      ],
      "execution_count": 0,
      "outputs": []
    },
    {
      "metadata": {
        "id": "szMODb08xFxv",
        "colab_type": "code",
        "colab": {}
      },
      "cell_type": "code",
      "source": [
        "bin1 = open(\"biod_bin1_genes.txt\", 'r')\n",
        "bin2 = open(\"biod_bin2_genes.txt\", 'r')\n",
        "bin3 = open(\"biod_bin3_genes.txt\", 'r')\n",
        "bin4 = open(\"biod_bin4_genes.txt\", 'r')\n",
        "bin10 = open(\"biod_bin10_genes.txt\", 'r')\n",
        "\n",
        "gene = ''\n",
        "pathways = []\n",
        "gene_pathway = pd.DataFrame()\n",
        "\n",
        "for line in bin1:\n",
        "  if \"RPA\" in line:\n",
        "    gene = line.split('\\n')[0]\n",
        "  elif line != '\\n':\n",
        "    pathway = ' '.join(line.split(' - ')[0].split(' ')[1:])\n",
        "    pathway_identifier = ''.join(line.split(' - ')[0].split(' ')[0])\n",
        "    gene_pathway = gene_pathway.append(pd.DataFrame([[1, gene, pathway, pathway_identifier]], columns=['bin','gene','pathway','pathway_identifier']), ignore_index=True)\n",
        "for line in bin2:\n",
        "  if \"RPA\" in line:\n",
        "    gene = line.split('\\n')[0]\n",
        "  elif line != '\\n':\n",
        "    pathway = ' '.join(line.split(' - ')[0].split(' ')[1:])\n",
        "    pathway_identifier = ''.join(line.split(' - ')[0].split(' ')[0])\n",
        "    gene_pathway = gene_pathway.append(pd.DataFrame([[2, gene, pathway, pathway_identifier]], columns=['bin','gene','pathway','pathway_identifier']), ignore_index=True)\n",
        "for line in bin3:\n",
        "  if \"RPA\" in line:\n",
        "    gene = line.split('\\n')[0]\n",
        "  elif line != '\\n':\n",
        "    pathway = ' '.join(line.split(' - ')[0].split(' ')[1:])\n",
        "    pathway_identifier = ''.join(line.split(' - ')[0].split(' ')[0])\n",
        "    gene_pathway = gene_pathway.append(pd.DataFrame([[3, gene, pathway, pathway_identifier]], columns=['bin','gene','pathway','pathway_identifier']), ignore_index=True)\n",
        "for line in bin4:\n",
        "  if \"RPA\" in line:\n",
        "    gene = line.split('\\n')[0]\n",
        "  elif line != '\\n':\n",
        "    pathway = ' '.join(line.split(' - ')[0].split(' ')[1:])\n",
        "    pathway_identifier = ''.join(line.split(' - ')[0].split(' ')[0])\n",
        "    gene_pathway = gene_pathway.append(pd.DataFrame([[4, gene, pathway, pathway_identifier]], columns=['bin','gene','pathway','pathway_identifier']), ignore_index=True)\n",
        "for line in bin10:\n",
        "  if \"RPA\" in line:\n",
        "    gene = line.split('\\n')[0]\n",
        "  elif line != '\\n':\n",
        "    pathway = ' '.join(line.split(' - ')[0].split(' ')[1:])\n",
        "    pathway_identifier = ''.join(line.split(' - ')[0].split(' ')[0])\n",
        "    gene_pathway = gene_pathway.append(pd.DataFrame([[10, gene, pathway, pathway_identifier]], columns=['bin','gene','pathway','pathway_identifier']), ignore_index=True)\n"
      ],
      "execution_count": 0,
      "outputs": []
    },
    {
      "metadata": {
        "id": "8CRj1_mrxmL1",
        "colab_type": "code",
        "outputId": "502b00ca-b131-4270-82e7-d142a6fb4947",
        "colab": {
          "base_uri": "https://localhost:8080/",
          "height": 34
        }
      },
      "cell_type": "code",
      "source": [
        "len(gene_pathway.gene.unique())"
      ],
      "execution_count": 0,
      "outputs": [
        {
          "output_type": "execute_result",
          "data": {
            "text/plain": [
              "199"
            ]
          },
          "metadata": {
            "tags": []
          },
          "execution_count": 30
        }
      ]
    },
    {
      "metadata": {
        "id": "F9IclcPnxmDn",
        "colab_type": "text"
      },
      "cell_type": "markdown",
      "source": [
        ""
      ]
    },
    {
      "metadata": {
        "id": "BYk9YmlIH-yV",
        "colab_type": "text"
      },
      "cell_type": "markdown",
      "source": [
        "https://www.genome.jp/dbget-bin/www_bget?pathway://pathway identifier\n",
        "<p>\n",
        "ex. https://www.genome.jp/dbget-bin/www_bget?pathway:rpa03018"
      ]
    },
    {
      "metadata": {
        "id": "HdLujV7E6tJa",
        "colab_type": "code",
        "colab": {}
      },
      "cell_type": "code",
      "source": [
        "#print('\\n'.join(gene_pathway.pathway_identifier.unique()))"
      ],
      "execution_count": 0,
      "outputs": []
    },
    {
      "metadata": {
        "id": "qBb2IZsl9SG_",
        "colab_type": "code",
        "colab": {}
      },
      "cell_type": "code",
      "source": [
        "pathway_gene_count = pd.DataFrame()\n",
        "pathway_gene_count_file = open('Num_Genes_Pathway.txt','r')\n",
        "for line in pathway_gene_count_file:\n",
        "  if len(line.split(' ')) > 1:\n",
        "    pathway_identifier = line.split(' ')[0]\n",
        "    gene_count = line.split(' ')[1][0:-1]\n",
        "    pathway_gene_count = pathway_gene_count.append(pd.DataFrame([[pathway_identifier, gene_count]], columns=['pathway_identifier', 'gene_count']), ignore_index=True)"
      ],
      "execution_count": 0,
      "outputs": []
    },
    {
      "metadata": {
        "id": "8zm-TaXd-0j6",
        "colab_type": "code",
        "outputId": "8ed7e58a-0b52-49a3-a79e-410c6d915596",
        "colab": {
          "base_uri": "https://localhost:8080/",
          "height": 204
        }
      },
      "cell_type": "code",
      "source": [
        "gene_pathway.head()"
      ],
      "execution_count": 0,
      "outputs": [
        {
          "output_type": "execute_result",
          "data": {
            "text/html": [
              "<div>\n",
              "<style scoped>\n",
              "    .dataframe tbody tr th:only-of-type {\n",
              "        vertical-align: middle;\n",
              "    }\n",
              "\n",
              "    .dataframe tbody tr th {\n",
              "        vertical-align: top;\n",
              "    }\n",
              "\n",
              "    .dataframe thead th {\n",
              "        text-align: right;\n",
              "    }\n",
              "</style>\n",
              "<table border=\"1\" class=\"dataframe\">\n",
              "  <thead>\n",
              "    <tr style=\"text-align: right;\">\n",
              "      <th></th>\n",
              "      <th>bin</th>\n",
              "      <th>gene</th>\n",
              "      <th>pathway</th>\n",
              "      <th>pathway_identifier</th>\n",
              "    </tr>\n",
              "  </thead>\n",
              "  <tbody>\n",
              "    <tr>\n",
              "      <th>0</th>\n",
              "      <td>1</td>\n",
              "      <td>RPA2164</td>\n",
              "      <td>RNA degradation</td>\n",
              "      <td>rpa03018</td>\n",
              "    </tr>\n",
              "    <tr>\n",
              "      <th>1</th>\n",
              "      <td>1</td>\n",
              "      <td>RPA4641</td>\n",
              "      <td>Microbial metabolism in diverse environments</td>\n",
              "      <td>rpa01120</td>\n",
              "    </tr>\n",
              "    <tr>\n",
              "      <th>2</th>\n",
              "      <td>1</td>\n",
              "      <td>RPA4641</td>\n",
              "      <td>Metabolic pathways</td>\n",
              "      <td>rpa01100</td>\n",
              "    </tr>\n",
              "    <tr>\n",
              "      <th>3</th>\n",
              "      <td>1</td>\n",
              "      <td>RPA4641</td>\n",
              "      <td>Glyoxylate and dicarboxylate metabolism</td>\n",
              "      <td>rpa00630</td>\n",
              "    </tr>\n",
              "    <tr>\n",
              "      <th>4</th>\n",
              "      <td>1</td>\n",
              "      <td>RPA4641</td>\n",
              "      <td>Carbon fixation in photosynthetic organisms</td>\n",
              "      <td>rpa00710</td>\n",
              "    </tr>\n",
              "  </tbody>\n",
              "</table>\n",
              "</div>"
            ],
            "text/plain": [
              "   bin     gene                                       pathway  \\\n",
              "0    1  RPA2164                               RNA degradation   \n",
              "1    1  RPA4641  Microbial metabolism in diverse environments   \n",
              "2    1  RPA4641                            Metabolic pathways   \n",
              "3    1  RPA4641       Glyoxylate and dicarboxylate metabolism   \n",
              "4    1  RPA4641   Carbon fixation in photosynthetic organisms   \n",
              "\n",
              "  pathway_identifier  \n",
              "0           rpa03018  \n",
              "1           rpa01120  \n",
              "2           rpa01100  \n",
              "3           rpa00630  \n",
              "4           rpa00710  "
            ]
          },
          "metadata": {
            "tags": []
          },
          "execution_count": 18
        }
      ]
    },
    {
      "metadata": {
        "id": "8qerEtXa_aL_",
        "colab_type": "code",
        "colab": {}
      },
      "cell_type": "code",
      "source": [
        "gene_pathway = gene_pathway.merge(pathway_gene_count, on='pathway_identifier').sort_values(by=['bin', 'gene'])"
      ],
      "execution_count": 0,
      "outputs": []
    },
    {
      "metadata": {
        "id": "QNLpqJarAnqs",
        "colab_type": "code",
        "colab": {}
      },
      "cell_type": "code",
      "source": [
        "bins = [1,2,3,4,10]\n",
        "bin_outputs = []\n",
        "for bin_number in bins:\n",
        "# This is kind of a brute-force approach, but since we probably don't get marked down for an O(n^2) approach to the problem, I consider this\n",
        "# good enough. If Professor Payne doesn't like it, I will see him in court.)#####################################################################\n",
        "  BIN = bin_number\n",
        "#################################################################################################################################################\n",
        "  bin = gene_pathway[gene_pathway.bin == BIN]\n",
        "  bin_pathways = bin[['pathway','pathway_identifier','gene_count']].drop_duplicates()\n",
        "\n",
        "  output = pd.DataFrame(columns=['Term','Overlap','P-value','Genes'])\n",
        "  for pathways_index, pathways_row in bin_pathways.iterrows():\n",
        "    pathway_count = 0\n",
        "    genes_in_pathway = []\n",
        "    for bin_index, bin_row in bin.iterrows():\n",
        "      if bin_row.pathway == pathways_row.pathway:\n",
        "        pathway_count = pathway_count + 1\n",
        "        genes_in_pathway.append(bin_row.gene)\n",
        "    if int(pathways_row.gene_count) > 0 and pathway_count > 1:\n",
        "      x = pathway_count #the number of genes in the bin that belong to that particular pathway\n",
        "      M = 3155 #the total population size -- the number of measured genes in rpal\n",
        "      n = int(pathways_row.gene_count) #number of genes in the pathway\n",
        "      N = len(bin) #number of genes in the bin\n",
        "      p_value = hypergeom.sf(x, M, n, N)\n",
        "      new_row = pd.DataFrame([[pathways_row.pathway, str(pathway_count) + '/' + str(pathways_row.gene_count), p_value, genes_in_pathway]], columns=['Term','Overlap','P-value','Genes'])\n",
        "      output = output.append(new_row, ignore_index=True)\n",
        "  output.sort_values(by='P-value', inplace=True)\n",
        "  bin_outputs.append(output)"
      ],
      "execution_count": 0,
      "outputs": []
    },
    {
      "metadata": {
        "id": "kI7YU5T5CbVB",
        "colab_type": "code",
        "outputId": "d812fa19-b57d-4229-a79d-cacf5d5c140b",
        "colab": {
          "base_uri": "https://localhost:8080/",
          "height": 1072
        }
      },
      "cell_type": "code",
      "source": [
        "#!pip install gseapy\n",
        "output = bin_outputs[4].iloc[[0]]\n",
        "output = output.append(bin_outputs[4].iloc[3:], ignore_index = True)\n",
        "output"
      ],
      "execution_count": 0,
      "outputs": [
        {
          "output_type": "execute_result",
          "data": {
            "text/html": [
              "<div>\n",
              "<style scoped>\n",
              "    .dataframe tbody tr th:only-of-type {\n",
              "        vertical-align: middle;\n",
              "    }\n",
              "\n",
              "    .dataframe tbody tr th {\n",
              "        vertical-align: top;\n",
              "    }\n",
              "\n",
              "    .dataframe thead th {\n",
              "        text-align: right;\n",
              "    }\n",
              "</style>\n",
              "<table border=\"1\" class=\"dataframe\">\n",
              "  <thead>\n",
              "    <tr style=\"text-align: right;\">\n",
              "      <th></th>\n",
              "      <th>Term</th>\n",
              "      <th>Overlap</th>\n",
              "      <th>P-value</th>\n",
              "      <th>Genes</th>\n",
              "    </tr>\n",
              "  </thead>\n",
              "  <tbody>\n",
              "    <tr>\n",
              "      <th>0</th>\n",
              "      <td>Fatty acid degradation</td>\n",
              "      <td>16/57</td>\n",
              "      <td>0.000216</td>\n",
              "      <td>[RPA0383, RPA1236, RPA1238, RPA1699, RPA1703, ...</td>\n",
              "    </tr>\n",
              "    <tr>\n",
              "      <th>1</th>\n",
              "      <td>Caprolactam degradation</td>\n",
              "      <td>3/9</td>\n",
              "      <td>0.015470</td>\n",
              "      <td>[RPA0383, RPA1238, RPA3624]</td>\n",
              "    </tr>\n",
              "    <tr>\n",
              "      <th>2</th>\n",
              "      <td>Valine, leucine and isoleucine degradation</td>\n",
              "      <td>11/58</td>\n",
              "      <td>0.037968</td>\n",
              "      <td>[RPA0383, RPA1236, RPA1238, RPA1614, RPA1699, ...</td>\n",
              "    </tr>\n",
              "    <tr>\n",
              "      <th>3</th>\n",
              "      <td>Quorum sensing</td>\n",
              "      <td>28/175</td>\n",
              "      <td>0.038585</td>\n",
              "      <td>[RPA0106, RPA0485, RPA0668, RPA1446, RPA1655, ...</td>\n",
              "    </tr>\n",
              "    <tr>\n",
              "      <th>4</th>\n",
              "      <td>Naphthalene degradation</td>\n",
              "      <td>2/7</td>\n",
              "      <td>0.040997</td>\n",
              "      <td>[RPA1955, RPA3655]</td>\n",
              "    </tr>\n",
              "    <tr>\n",
              "      <th>5</th>\n",
              "      <td>Geraniol degradation</td>\n",
              "      <td>3/12</td>\n",
              "      <td>0.045465</td>\n",
              "      <td>[RPA0383, RPA1238, RPA2143]</td>\n",
              "    </tr>\n",
              "    <tr>\n",
              "      <th>6</th>\n",
              "      <td>Limonene and pinene degradation</td>\n",
              "      <td>2/8</td>\n",
              "      <td>0.059909</td>\n",
              "      <td>[RPA0383, RPA1238]</td>\n",
              "    </tr>\n",
              "    <tr>\n",
              "      <th>7</th>\n",
              "      <td>Galactose metabolism</td>\n",
              "      <td>2/8</td>\n",
              "      <td>0.059909</td>\n",
              "      <td>[RPA0378, RPA4759]</td>\n",
              "    </tr>\n",
              "    <tr>\n",
              "      <th>8</th>\n",
              "      <td>Benzoate degradation</td>\n",
              "      <td>9/52</td>\n",
              "      <td>0.084095</td>\n",
              "      <td>[RPA0383, RPA0651, RPA0653, RPA0654, RPA0661, ...</td>\n",
              "    </tr>\n",
              "    <tr>\n",
              "      <th>9</th>\n",
              "      <td>Tyrosine metabolism</td>\n",
              "      <td>4/23</td>\n",
              "      <td>0.130969</td>\n",
              "      <td>[RPA0005, RPA0409, RPA1955, RPA3655]</td>\n",
              "    </tr>\n",
              "    <tr>\n",
              "      <th>10</th>\n",
              "      <td>Fatty acid biosynthesis</td>\n",
              "      <td>6/37</td>\n",
              "      <td>0.144775</td>\n",
              "      <td>[RPA0895, RPA0896, RPA2142, RPA3299, RPA3716, ...</td>\n",
              "    </tr>\n",
              "    <tr>\n",
              "      <th>11</th>\n",
              "      <td>Tryptophan metabolism</td>\n",
              "      <td>5/31</td>\n",
              "      <td>0.157211</td>\n",
              "      <td>[RPA0383, RPA0409, RPA1238, RPA1703, RPA3564]</td>\n",
              "    </tr>\n",
              "    <tr>\n",
              "      <th>12</th>\n",
              "      <td>Butanoate metabolism</td>\n",
              "      <td>8/52</td>\n",
              "      <td>0.160863</td>\n",
              "      <td>[RPA0109, RPA0383, RPA0532, RPA1238, RPA1703, ...</td>\n",
              "    </tr>\n",
              "    <tr>\n",
              "      <th>13</th>\n",
              "      <td>ABC transporters</td>\n",
              "      <td>28/207</td>\n",
              "      <td>0.199803</td>\n",
              "      <td>[RPA0106, RPA0485, RPA0668, RPA1655, RPA1741, ...</td>\n",
              "    </tr>\n",
              "    <tr>\n",
              "      <th>14</th>\n",
              "      <td>Propanoate metabolism</td>\n",
              "      <td>9/63</td>\n",
              "      <td>0.213667</td>\n",
              "      <td>[RPA0383, RPA1236, RPA1238, RPA1699, RPA1703, ...</td>\n",
              "    </tr>\n",
              "    <tr>\n",
              "      <th>15</th>\n",
              "      <td>Aminobenzoate degradation</td>\n",
              "      <td>4/27</td>\n",
              "      <td>0.213993</td>\n",
              "      <td>[RPA0383, RPA0661, RPA1238, RPA1609]</td>\n",
              "    </tr>\n",
              "    <tr>\n",
              "      <th>16</th>\n",
              "      <td>Fructose and mannose metabolism</td>\n",
              "      <td>2/15</td>\n",
              "      <td>0.263066</td>\n",
              "      <td>[RPA3473, RPA3474]</td>\n",
              "    </tr>\n",
              "    <tr>\n",
              "      <th>17</th>\n",
              "      <td>Valine, leucine and isoleucine biosynthesis</td>\n",
              "      <td>3/22</td>\n",
              "      <td>0.264226</td>\n",
              "      <td>[RPA2001, RPA3472, RPA3967]</td>\n",
              "    </tr>\n",
              "    <tr>\n",
              "      <th>18</th>\n",
              "      <td>Nicotinate and nicotinamide metabolism</td>\n",
              "      <td>2/16</td>\n",
              "      <td>0.297391</td>\n",
              "      <td>[RPA1054, RPA1055]</td>\n",
              "    </tr>\n",
              "    <tr>\n",
              "      <th>19</th>\n",
              "      <td>Lysine degradation</td>\n",
              "      <td>3/25</td>\n",
              "      <td>0.349311</td>\n",
              "      <td>[RPA0383, RPA1238, RPA1703]</td>\n",
              "    </tr>\n",
              "    <tr>\n",
              "      <th>20</th>\n",
              "      <td>Chloroalkane and chloroalkene degradation</td>\n",
              "      <td>2/24</td>\n",
              "      <td>0.560219</td>\n",
              "      <td>[RPA1955, RPA3655]</td>\n",
              "    </tr>\n",
              "    <tr>\n",
              "      <th>21</th>\n",
              "      <td>Biotin metabolism</td>\n",
              "      <td>2/25</td>\n",
              "      <td>0.588979</td>\n",
              "      <td>[RPA0895, RPA0896]</td>\n",
              "    </tr>\n",
              "    <tr>\n",
              "      <th>22</th>\n",
              "      <td>Glutathione metabolism</td>\n",
              "      <td>2/26</td>\n",
              "      <td>0.616504</td>\n",
              "      <td>[RPA2266, RPA3880]</td>\n",
              "    </tr>\n",
              "    <tr>\n",
              "      <th>23</th>\n",
              "      <td>Pantothenate and CoA biosynthesis</td>\n",
              "      <td>2/27</td>\n",
              "      <td>0.642760</td>\n",
              "      <td>[RPA2001, RPA3472]</td>\n",
              "    </tr>\n",
              "    <tr>\n",
              "      <th>24</th>\n",
              "      <td>Glycolysis / Gluconeogenesis</td>\n",
              "      <td>3/38</td>\n",
              "      <td>0.682390</td>\n",
              "      <td>[RPA1206, RPA1955, RPA3655]</td>\n",
              "    </tr>\n",
              "    <tr>\n",
              "      <th>25</th>\n",
              "      <td>Cysteine and methionine metabolism</td>\n",
              "      <td>3/39</td>\n",
              "      <td>0.702492</td>\n",
              "      <td>[RPA4015, RPA4016, RPA4024]</td>\n",
              "    </tr>\n",
              "    <tr>\n",
              "      <th>26</th>\n",
              "      <td>Sulfur metabolism</td>\n",
              "      <td>3/42</td>\n",
              "      <td>0.757230</td>\n",
              "      <td>[RPA4466, RPA4468, RPA4469]</td>\n",
              "    </tr>\n",
              "    <tr>\n",
              "      <th>27</th>\n",
              "      <td>Glycine, serine and threonine metabolism</td>\n",
              "      <td>2/35</td>\n",
              "      <td>0.807223</td>\n",
              "      <td>[RPA0409, RPA3967]</td>\n",
              "    </tr>\n",
              "    <tr>\n",
              "      <th>28</th>\n",
              "      <td>Pyruvate metabolism</td>\n",
              "      <td>3/55</td>\n",
              "      <td>0.909411</td>\n",
              "      <td>[RPA1206, RPA1703, RPA2523]</td>\n",
              "    </tr>\n",
              "    <tr>\n",
              "      <th>29</th>\n",
              "      <td>Nitrogen metabolism</td>\n",
              "      <td>2/44</td>\n",
              "      <td>0.911267</td>\n",
              "      <td>[RPA3306, RPA4708]</td>\n",
              "    </tr>\n",
              "    <tr>\n",
              "      <th>30</th>\n",
              "      <td>Glyoxylate and dicarboxylate metabolism</td>\n",
              "      <td>2/55</td>\n",
              "      <td>0.968372</td>\n",
              "      <td>[RPA0532, RPA1703]</td>\n",
              "    </tr>\n",
              "    <tr>\n",
              "      <th>31</th>\n",
              "      <td>Oxidative phosphorylation</td>\n",
              "      <td>2/61</td>\n",
              "      <td>0.982501</td>\n",
              "      <td>[RPA1016, RPA4254]</td>\n",
              "    </tr>\n",
              "    <tr>\n",
              "      <th>32</th>\n",
              "      <td>Two-component system</td>\n",
              "      <td>5/131</td>\n",
              "      <td>0.999098</td>\n",
              "      <td>[RPA1016, RPA1703, RPA2047, RPA2574, RPA2966]</td>\n",
              "    </tr>\n",
              "  </tbody>\n",
              "</table>\n",
              "</div>"
            ],
            "text/plain": [
              "                                           Term Overlap   P-value  \\\n",
              "0                        Fatty acid degradation   16/57  0.000216   \n",
              "1                       Caprolactam degradation     3/9  0.015470   \n",
              "2    Valine, leucine and isoleucine degradation   11/58  0.037968   \n",
              "3                                Quorum sensing  28/175  0.038585   \n",
              "4                       Naphthalene degradation     2/7  0.040997   \n",
              "5                          Geraniol degradation    3/12  0.045465   \n",
              "6               Limonene and pinene degradation     2/8  0.059909   \n",
              "7                          Galactose metabolism     2/8  0.059909   \n",
              "8                          Benzoate degradation    9/52  0.084095   \n",
              "9                           Tyrosine metabolism    4/23  0.130969   \n",
              "10                      Fatty acid biosynthesis    6/37  0.144775   \n",
              "11                        Tryptophan metabolism    5/31  0.157211   \n",
              "12                         Butanoate metabolism    8/52  0.160863   \n",
              "13                             ABC transporters  28/207  0.199803   \n",
              "14                        Propanoate metabolism    9/63  0.213667   \n",
              "15                    Aminobenzoate degradation    4/27  0.213993   \n",
              "16              Fructose and mannose metabolism    2/15  0.263066   \n",
              "17  Valine, leucine and isoleucine biosynthesis    3/22  0.264226   \n",
              "18       Nicotinate and nicotinamide metabolism    2/16  0.297391   \n",
              "19                           Lysine degradation    3/25  0.349311   \n",
              "20    Chloroalkane and chloroalkene degradation    2/24  0.560219   \n",
              "21                            Biotin metabolism    2/25  0.588979   \n",
              "22                       Glutathione metabolism    2/26  0.616504   \n",
              "23            Pantothenate and CoA biosynthesis    2/27  0.642760   \n",
              "24                 Glycolysis / Gluconeogenesis    3/38  0.682390   \n",
              "25           Cysteine and methionine metabolism    3/39  0.702492   \n",
              "26                            Sulfur metabolism    3/42  0.757230   \n",
              "27     Glycine, serine and threonine metabolism    2/35  0.807223   \n",
              "28                          Pyruvate metabolism    3/55  0.909411   \n",
              "29                          Nitrogen metabolism    2/44  0.911267   \n",
              "30      Glyoxylate and dicarboxylate metabolism    2/55  0.968372   \n",
              "31                    Oxidative phosphorylation    2/61  0.982501   \n",
              "32                         Two-component system   5/131  0.999098   \n",
              "\n",
              "                                                Genes  \n",
              "0   [RPA0383, RPA1236, RPA1238, RPA1699, RPA1703, ...  \n",
              "1                         [RPA0383, RPA1238, RPA3624]  \n",
              "2   [RPA0383, RPA1236, RPA1238, RPA1614, RPA1699, ...  \n",
              "3   [RPA0106, RPA0485, RPA0668, RPA1446, RPA1655, ...  \n",
              "4                                  [RPA1955, RPA3655]  \n",
              "5                         [RPA0383, RPA1238, RPA2143]  \n",
              "6                                  [RPA0383, RPA1238]  \n",
              "7                                  [RPA0378, RPA4759]  \n",
              "8   [RPA0383, RPA0651, RPA0653, RPA0654, RPA0661, ...  \n",
              "9                [RPA0005, RPA0409, RPA1955, RPA3655]  \n",
              "10  [RPA0895, RPA0896, RPA2142, RPA3299, RPA3716, ...  \n",
              "11      [RPA0383, RPA0409, RPA1238, RPA1703, RPA3564]  \n",
              "12  [RPA0109, RPA0383, RPA0532, RPA1238, RPA1703, ...  \n",
              "13  [RPA0106, RPA0485, RPA0668, RPA1655, RPA1741, ...  \n",
              "14  [RPA0383, RPA1236, RPA1238, RPA1699, RPA1703, ...  \n",
              "15               [RPA0383, RPA0661, RPA1238, RPA1609]  \n",
              "16                                 [RPA3473, RPA3474]  \n",
              "17                        [RPA2001, RPA3472, RPA3967]  \n",
              "18                                 [RPA1054, RPA1055]  \n",
              "19                        [RPA0383, RPA1238, RPA1703]  \n",
              "20                                 [RPA1955, RPA3655]  \n",
              "21                                 [RPA0895, RPA0896]  \n",
              "22                                 [RPA2266, RPA3880]  \n",
              "23                                 [RPA2001, RPA3472]  \n",
              "24                        [RPA1206, RPA1955, RPA3655]  \n",
              "25                        [RPA4015, RPA4016, RPA4024]  \n",
              "26                        [RPA4466, RPA4468, RPA4469]  \n",
              "27                                 [RPA0409, RPA3967]  \n",
              "28                        [RPA1206, RPA1703, RPA2523]  \n",
              "29                                 [RPA3306, RPA4708]  \n",
              "30                                 [RPA0532, RPA1703]  \n",
              "31                                 [RPA1016, RPA4254]  \n",
              "32      [RPA1016, RPA1703, RPA2047, RPA2574, RPA2966]  "
            ]
          },
          "metadata": {
            "tags": []
          },
          "execution_count": 58
        }
      ]
    },
    {
      "metadata": {
        "id": "H9Y1bXJQ4lXw",
        "colab_type": "code",
        "outputId": "967fb86d-7f53-4868-d1e1-465566754d76",
        "colab": {
          "base_uri": "https://localhost:8080/",
          "height": 804
        }
      },
      "cell_type": "code",
      "source": [
        "from gseapy.plot import barplot\n",
        "#barplot(bin_outputs[0], column=\"P-value\", color = \"blue\", cutoff=1)\n",
        "barplot(bin_outputs[1], column=\"P-value\", color = \"blue\", cutoff=.05)\n",
        "#barplot(bin_outputs[2], column=\"P-value\", color = \"blue\", cutoff=1)\n",
        "#barplot(bin_outputs[3], column=\"P-value\", color = \"blue\", cutoff=1)\n",
        "#barplot(bin_outputs[4], column=\"P-value\", color = \"blue\", cutoff=1)\n",
        "barplot(output, column=\"P-value\",color=\"blue\",cutoff=.05)\n"
      ],
      "execution_count": 0,
      "outputs": [
        {
          "output_type": "execute_result",
          "data": {
            "text/plain": [
              "<matplotlib.axes._subplots.AxesSubplot at 0x7f7db390a0f0>"
            ]
          },
          "metadata": {
            "tags": []
          },
          "execution_count": 61
        },
        {
          "output_type": "display_data",
          "data": {
            "image/png": "[encoded data removed]",
            "text/plain": [
              "<Figure size 468x432 with 1 Axes>"
            ]
          },
          "metadata": {
            "tags": []
          }
        },
        {
          "output_type": "display_data",
          "data": {
            "image/png": "[encoded data removed]",
            "text/plain": [
              "<Figure size 468x432 with 1 Axes>"
            ]
          },
          "metadata": {
            "tags": []
          }
        }
      ]
    }
  ]
}